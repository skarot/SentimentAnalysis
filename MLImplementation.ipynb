{
  "nbformat": 4,
  "nbformat_minor": 0,
  "metadata": {
    "colab": {
      "name": "Untitled34.ipynb",
      "provenance": [],
      "collapsed_sections": [
        "YLwdM-4pS-5D"
      ],
      "authorship_tag": "ABX9TyNp7VczPUCkIiNNFSMz6Ggv",
      "include_colab_link": true
    },
    "kernelspec": {
      "name": "python3",
      "display_name": "Python 3"
    },
    "language_info": {
      "name": "python"
    },
    "accelerator": "GPU",
    "gpuClass": "standard"
  },
  "cells": [
    {
      "cell_type": "markdown",
      "metadata": {
        "id": "view-in-github",
        "colab_type": "text"
      },
      "source": [
        "<a href=\"https://colab.research.google.com/github/skarot/SentimentAnalysis/blob/main/MLImplementation.ipynb\" target=\"_parent\"><img src=\"https://colab.research.google.com/assets/colab-badge.svg\" alt=\"Open In Colab\"/></a>"
      ]
    },
    {
      "cell_type": "markdown",
      "source": [
        "# Sentiment Analysis using:\n",
        "1. ML\n",
        "2. DL - LSTM and RNN"
      ],
      "metadata": {
        "id": "BLDm_zUpfagV"
      }
    },
    {
      "cell_type": "markdown",
      "source": [
        "## Use Case"
      ],
      "metadata": {
        "id": "K8iha8HCgAXs"
      }
    },
    {
      "cell_type": "markdown",
      "source": [
        "A leading learning and development group recently moved from offline teaching to online teaching due to pandemic situation. The students gave a survey on teaching, course content, exams, labs, library facilities and extra curricular activities. \n",
        "The task is to understand the underlying sentiment from the feedback on various areas and then provide a cumulative view. "
      ],
      "metadata": {
        "id": "xtPBs98Kes0k"
      }
    },
    {
      "cell_type": "markdown",
      "source": [
        "## Import Libraries"
      ],
      "metadata": {
        "id": "Q0Tr9mv_gCJ5"
      }
    },
    {
      "cell_type": "code",
      "execution_count": 1,
      "metadata": {
        "id": "Ya8_FUs-eN7k"
      },
      "outputs": [],
      "source": [
        "\n",
        "import pandas as pd\n",
        "import numpy as np\n",
        "import matplotlib.pyplot as plt\n",
        "from sklearn.metrics import confusion_matrix, classification_report, accuracy_score\n",
        "from sklearn.model_selection import train_test_split\n",
        "import seaborn as sb\n"
      ]
    },
    {
      "cell_type": "code",
      "source": [
        "import tensorflow as tf\n",
        "from tensorflow import keras\n",
        "from keras.layers import Dense, LSTM, Embedding\n",
        "from keras.models import sequential"
      ],
      "metadata": {
        "id": "DFTNiEl50l9v"
      },
      "execution_count": 2,
      "outputs": []
    },
    {
      "cell_type": "markdown",
      "source": [
        "## Load data"
      ],
      "metadata": {
        "id": "hjQ9c22YgFWV"
      }
    },
    {
      "cell_type": "code",
      "source": [
        "df = pd.read_excel('StudentFeedback.xlsx')"
      ],
      "metadata": {
        "id": "Zd9zEIHWgxSC"
      },
      "execution_count": 3,
      "outputs": []
    },
    {
      "cell_type": "markdown",
      "source": [
        "## EDA"
      ],
      "metadata": {
        "id": "05DeeP5_gIFK"
      }
    },
    {
      "cell_type": "code",
      "source": [
        "df.shape"
      ],
      "metadata": {
        "colab": {
          "base_uri": "https://localhost:8080/"
        },
        "id": "VRMfU1qagJz1",
        "outputId": "27dc33b3-f6cb-4520-bed6-e48bdeeb53f5"
      },
      "execution_count": 4,
      "outputs": [
        {
          "output_type": "execute_result",
          "data": {
            "text/plain": [
              "(185, 12)"
            ]
          },
          "metadata": {},
          "execution_count": 4
        }
      ]
    },
    {
      "cell_type": "code",
      "source": [
        "df.columns"
      ],
      "metadata": {
        "colab": {
          "base_uri": "https://localhost:8080/"
        },
        "id": "SPex6oLsijpa",
        "outputId": "782ed1ac-b3ea-4b18-e060-2a0ee6ad38f2"
      },
      "execution_count": 5,
      "outputs": [
        {
          "output_type": "execute_result",
          "data": {
            "text/plain": [
              "Index(['teaching', 'teaching.1', 'coursecontent', 'coursecontent.1',\n",
              "       'examination', 'Examination', 'labwork', 'labwork.1',\n",
              "       'library_facilities', ' library_facilities', 'extracurricular',\n",
              "       'extracurricular.1'],\n",
              "      dtype='object')"
            ]
          },
          "metadata": {},
          "execution_count": 5
        }
      ]
    },
    {
      "cell_type": "code",
      "source": [
        "df.info()"
      ],
      "metadata": {
        "colab": {
          "base_uri": "https://localhost:8080/"
        },
        "id": "9rxcVzlyjSWa",
        "outputId": "31f16d52-c178-4292-fac7-396ac8a8a2d1"
      },
      "execution_count": 6,
      "outputs": [
        {
          "output_type": "stream",
          "name": "stdout",
          "text": [
            "<class 'pandas.core.frame.DataFrame'>\n",
            "RangeIndex: 185 entries, 0 to 184\n",
            "Data columns (total 12 columns):\n",
            " #   Column               Non-Null Count  Dtype  \n",
            "---  ------               --------------  -----  \n",
            " 0   teaching             185 non-null    int64  \n",
            " 1   teaching.1           185 non-null    object \n",
            " 2   coursecontent        184 non-null    float64\n",
            " 3   coursecontent.1      185 non-null    object \n",
            " 4   examination          184 non-null    float64\n",
            " 5   Examination          185 non-null    object \n",
            " 6   labwork              185 non-null    int64  \n",
            " 7   labwork.1            185 non-null    object \n",
            " 8   library_facilities   182 non-null    float64\n",
            " 9    library_facilities  185 non-null    object \n",
            " 10  extracurricular      185 non-null    int64  \n",
            " 11  extracurricular.1    185 non-null    object \n",
            "dtypes: float64(3), int64(3), object(6)\n",
            "memory usage: 17.5+ KB\n"
          ]
        }
      ]
    },
    {
      "cell_type": "code",
      "source": [
        "df.head(5)"
      ],
      "metadata": {
        "colab": {
          "base_uri": "https://localhost:8080/",
          "height": 582
        },
        "id": "JtkBPoQ5jXVT",
        "outputId": "f5d8f724-510b-431e-b90f-012e3c311677"
      },
      "execution_count": 7,
      "outputs": [
        {
          "output_type": "execute_result",
          "data": {
            "text/plain": [
              "   teaching                                         teaching.1  coursecontent  \\\n",
              "0         0  teacher are punctual but they should also give...            0.0   \n",
              "1         1                                              Good            -1.0   \n",
              "2         1  Excellent lectures are delivered by teachers a...            1.0   \n",
              "3         1                                               Good           -1.0   \n",
              "4         1  teachers give us all the information required ...            1.0   \n",
              "\n",
              "                                     coursecontent.1  examination  \\\n",
              "0                     content of courses are average          1.0   \n",
              "1                                           Not good          1.0   \n",
              "2  All courses material provide very good knowled...          1.0   \n",
              "3  Content of course is perfectly in line with th...         -1.0   \n",
              "4           content of courses improves my knowledge          1.0   \n",
              "\n",
              "                                         Examination  labwork  \\\n",
              "0                        examination pattern is good       -1   \n",
              "1                                               Good        1   \n",
              "2  Exam pattern is up to the mark and the Cgpa de...        1   \n",
              "3  Again the university tests students of their a...        1   \n",
              "4                        examination pattern is good        1   \n",
              "\n",
              "                                           labwork.1  library_facilities  \\\n",
              "0  not satisfactory, lab work must include latest...                 0.0   \n",
              "1                                              Good                 -1.0   \n",
              "2  Lab work is properly covered in the labs by th...                 1.0   \n",
              "3                                               Good                 0.0   \n",
              "4  practical work provides detail knowledge of th...                 1.0   \n",
              "\n",
              "                                  library_facilities  extracurricular  \\\n",
              "0  library facilities are good but number of book...                1   \n",
              "1                                          Not good                 1   \n",
              "2  Library facilities are excellent in terms of g...                1   \n",
              "3  Its the best thing i have seen in this univers...               -1   \n",
              "4  library has huge collection of books from diff...                1   \n",
              "\n",
              "                                   extracurricular.1  \n",
              "0  extracurricular activities are excellent and p...  \n",
              "1                                              Good   \n",
              "2  Extra curricular activities also help students...  \n",
              "3  Complete wastage of time. Again this opinion i...  \n",
              "4  extracurricular activities increases mental an...  "
            ],
            "text/html": [
              "\n",
              "  <div id=\"df-bbc186bf-6f24-4a36-91a6-2e59d9dde92e\">\n",
              "    <div class=\"colab-df-container\">\n",
              "      <div>\n",
              "<style scoped>\n",
              "    .dataframe tbody tr th:only-of-type {\n",
              "        vertical-align: middle;\n",
              "    }\n",
              "\n",
              "    .dataframe tbody tr th {\n",
              "        vertical-align: top;\n",
              "    }\n",
              "\n",
              "    .dataframe thead th {\n",
              "        text-align: right;\n",
              "    }\n",
              "</style>\n",
              "<table border=\"1\" class=\"dataframe\">\n",
              "  <thead>\n",
              "    <tr style=\"text-align: right;\">\n",
              "      <th></th>\n",
              "      <th>teaching</th>\n",
              "      <th>teaching.1</th>\n",
              "      <th>coursecontent</th>\n",
              "      <th>coursecontent.1</th>\n",
              "      <th>examination</th>\n",
              "      <th>Examination</th>\n",
              "      <th>labwork</th>\n",
              "      <th>labwork.1</th>\n",
              "      <th>library_facilities</th>\n",
              "      <th>library_facilities</th>\n",
              "      <th>extracurricular</th>\n",
              "      <th>extracurricular.1</th>\n",
              "    </tr>\n",
              "  </thead>\n",
              "  <tbody>\n",
              "    <tr>\n",
              "      <th>0</th>\n",
              "      <td>0</td>\n",
              "      <td>teacher are punctual but they should also give...</td>\n",
              "      <td>0.0</td>\n",
              "      <td>content of courses are average</td>\n",
              "      <td>1.0</td>\n",
              "      <td>examination pattern is good</td>\n",
              "      <td>-1</td>\n",
              "      <td>not satisfactory, lab work must include latest...</td>\n",
              "      <td>0.0</td>\n",
              "      <td>library facilities are good but number of book...</td>\n",
              "      <td>1</td>\n",
              "      <td>extracurricular activities are excellent and p...</td>\n",
              "    </tr>\n",
              "    <tr>\n",
              "      <th>1</th>\n",
              "      <td>1</td>\n",
              "      <td>Good</td>\n",
              "      <td>-1.0</td>\n",
              "      <td>Not good</td>\n",
              "      <td>1.0</td>\n",
              "      <td>Good</td>\n",
              "      <td>1</td>\n",
              "      <td>Good</td>\n",
              "      <td>-1.0</td>\n",
              "      <td>Not good</td>\n",
              "      <td>1</td>\n",
              "      <td>Good</td>\n",
              "    </tr>\n",
              "    <tr>\n",
              "      <th>2</th>\n",
              "      <td>1</td>\n",
              "      <td>Excellent lectures are delivered by teachers a...</td>\n",
              "      <td>1.0</td>\n",
              "      <td>All courses material provide very good knowled...</td>\n",
              "      <td>1.0</td>\n",
              "      <td>Exam pattern is up to the mark and the Cgpa de...</td>\n",
              "      <td>1</td>\n",
              "      <td>Lab work is properly covered in the labs by th...</td>\n",
              "      <td>1.0</td>\n",
              "      <td>Library facilities are excellent in terms of g...</td>\n",
              "      <td>1</td>\n",
              "      <td>Extra curricular activities also help students...</td>\n",
              "    </tr>\n",
              "    <tr>\n",
              "      <th>3</th>\n",
              "      <td>1</td>\n",
              "      <td>Good</td>\n",
              "      <td>-1.0</td>\n",
              "      <td>Content of course is perfectly in line with th...</td>\n",
              "      <td>-1.0</td>\n",
              "      <td>Again the university tests students of their a...</td>\n",
              "      <td>1</td>\n",
              "      <td>Good</td>\n",
              "      <td>0.0</td>\n",
              "      <td>Its the best thing i have seen in this univers...</td>\n",
              "      <td>-1</td>\n",
              "      <td>Complete wastage of time. Again this opinion i...</td>\n",
              "    </tr>\n",
              "    <tr>\n",
              "      <th>4</th>\n",
              "      <td>1</td>\n",
              "      <td>teachers give us all the information required ...</td>\n",
              "      <td>1.0</td>\n",
              "      <td>content of courses improves my knowledge</td>\n",
              "      <td>1.0</td>\n",
              "      <td>examination pattern is good</td>\n",
              "      <td>1</td>\n",
              "      <td>practical work provides detail knowledge of th...</td>\n",
              "      <td>1.0</td>\n",
              "      <td>library has huge collection of books from diff...</td>\n",
              "      <td>1</td>\n",
              "      <td>extracurricular activities increases mental an...</td>\n",
              "    </tr>\n",
              "  </tbody>\n",
              "</table>\n",
              "</div>\n",
              "      <button class=\"colab-df-convert\" onclick=\"convertToInteractive('df-bbc186bf-6f24-4a36-91a6-2e59d9dde92e')\"\n",
              "              title=\"Convert this dataframe to an interactive table.\"\n",
              "              style=\"display:none;\">\n",
              "        \n",
              "  <svg xmlns=\"http://www.w3.org/2000/svg\" height=\"24px\"viewBox=\"0 0 24 24\"\n",
              "       width=\"24px\">\n",
              "    <path d=\"M0 0h24v24H0V0z\" fill=\"none\"/>\n",
              "    <path d=\"M18.56 5.44l.94 2.06.94-2.06 2.06-.94-2.06-.94-.94-2.06-.94 2.06-2.06.94zm-11 1L8.5 8.5l.94-2.06 2.06-.94-2.06-.94L8.5 2.5l-.94 2.06-2.06.94zm10 10l.94 2.06.94-2.06 2.06-.94-2.06-.94-.94-2.06-.94 2.06-2.06.94z\"/><path d=\"M17.41 7.96l-1.37-1.37c-.4-.4-.92-.59-1.43-.59-.52 0-1.04.2-1.43.59L10.3 9.45l-7.72 7.72c-.78.78-.78 2.05 0 2.83L4 21.41c.39.39.9.59 1.41.59.51 0 1.02-.2 1.41-.59l7.78-7.78 2.81-2.81c.8-.78.8-2.07 0-2.86zM5.41 20L4 18.59l7.72-7.72 1.47 1.35L5.41 20z\"/>\n",
              "  </svg>\n",
              "      </button>\n",
              "      \n",
              "  <style>\n",
              "    .colab-df-container {\n",
              "      display:flex;\n",
              "      flex-wrap:wrap;\n",
              "      gap: 12px;\n",
              "    }\n",
              "\n",
              "    .colab-df-convert {\n",
              "      background-color: #E8F0FE;\n",
              "      border: none;\n",
              "      border-radius: 50%;\n",
              "      cursor: pointer;\n",
              "      display: none;\n",
              "      fill: #1967D2;\n",
              "      height: 32px;\n",
              "      padding: 0 0 0 0;\n",
              "      width: 32px;\n",
              "    }\n",
              "\n",
              "    .colab-df-convert:hover {\n",
              "      background-color: #E2EBFA;\n",
              "      box-shadow: 0px 1px 2px rgba(60, 64, 67, 0.3), 0px 1px 3px 1px rgba(60, 64, 67, 0.15);\n",
              "      fill: #174EA6;\n",
              "    }\n",
              "\n",
              "    [theme=dark] .colab-df-convert {\n",
              "      background-color: #3B4455;\n",
              "      fill: #D2E3FC;\n",
              "    }\n",
              "\n",
              "    [theme=dark] .colab-df-convert:hover {\n",
              "      background-color: #434B5C;\n",
              "      box-shadow: 0px 1px 3px 1px rgba(0, 0, 0, 0.15);\n",
              "      filter: drop-shadow(0px 1px 2px rgba(0, 0, 0, 0.3));\n",
              "      fill: #FFFFFF;\n",
              "    }\n",
              "  </style>\n",
              "\n",
              "      <script>\n",
              "        const buttonEl =\n",
              "          document.querySelector('#df-bbc186bf-6f24-4a36-91a6-2e59d9dde92e button.colab-df-convert');\n",
              "        buttonEl.style.display =\n",
              "          google.colab.kernel.accessAllowed ? 'block' : 'none';\n",
              "\n",
              "        async function convertToInteractive(key) {\n",
              "          const element = document.querySelector('#df-bbc186bf-6f24-4a36-91a6-2e59d9dde92e');\n",
              "          const dataTable =\n",
              "            await google.colab.kernel.invokeFunction('convertToInteractive',\n",
              "                                                     [key], {});\n",
              "          if (!dataTable) return;\n",
              "\n",
              "          const docLinkHtml = 'Like what you see? Visit the ' +\n",
              "            '<a target=\"_blank\" href=https://colab.research.google.com/notebooks/data_table.ipynb>data table notebook</a>'\n",
              "            + ' to learn more about interactive tables.';\n",
              "          element.innerHTML = '';\n",
              "          dataTable['output_type'] = 'display_data';\n",
              "          await google.colab.output.renderOutput(dataTable, element);\n",
              "          const docLink = document.createElement('div');\n",
              "          docLink.innerHTML = docLinkHtml;\n",
              "          element.appendChild(docLink);\n",
              "        }\n",
              "      </script>\n",
              "    </div>\n",
              "  </div>\n",
              "  "
            ]
          },
          "metadata": {},
          "execution_count": 7
        }
      ]
    },
    {
      "cell_type": "markdown",
      "source": [
        "## Preprocessing"
      ],
      "metadata": {
        "id": "9xRjyaWWrCIO"
      }
    },
    {
      "cell_type": "markdown",
      "source": [
        "There are 2 columns with same name 'library_facilities'. Rename one of them based on index.\n",
        "\n"
      ],
      "metadata": {
        "id": "t5Md-hwYoDPY"
      }
    },
    {
      "cell_type": "code",
      "source": [
        "\n",
        "df = df.rename(columns = {df.columns[8]:'library_facilities_sentiment_score'})"
      ],
      "metadata": {
        "id": "Glz3zJJ7oLb1"
      },
      "execution_count": 8,
      "outputs": []
    },
    {
      "cell_type": "markdown",
      "source": [
        "Lets rename the columns for better understanding.\n"
      ],
      "metadata": {
        "id": "pKEkhrKam3b9"
      }
    },
    {
      "cell_type": "code",
      "source": [
        "df = df.rename(columns = {\n",
        "    'teaching':'teaching_sentiment_score',\n",
        "    'teaching.1':'teaching_review',\n",
        "    'coursecontent':'coursecontent_sentiment_score',\n",
        "    'coursecontent.1':'coursecontent_review',\n",
        "    'examination':'examination_sentiment_score',\n",
        "    'Examination':'examination_review',\n",
        "    'labwork':'labwork_sentiment_score',\n",
        "    'labwork.1':'labwork_review',\n",
        "    ' library_facilities':'library_facilities_review',\n",
        "    'extracurricular':'extracurricular_sentiment_score',\n",
        "    'extracurricular.1':'extracurricular_review'  \n",
        "})"
      ],
      "metadata": {
        "id": "5iMLfn1dm714"
      },
      "execution_count": 9,
      "outputs": []
    },
    {
      "cell_type": "code",
      "source": [
        "df.head(5)"
      ],
      "metadata": {
        "colab": {
          "base_uri": "https://localhost:8080/",
          "height": 444
        },
        "id": "fsU0RLPRqKJ2",
        "outputId": "f80c8055-fc41-4a5a-9a84-d102a5b65e4c"
      },
      "execution_count": 10,
      "outputs": [
        {
          "output_type": "execute_result",
          "data": {
            "text/plain": [
              "   teaching_sentiment_score  \\\n",
              "0                         0   \n",
              "1                         1   \n",
              "2                         1   \n",
              "3                         1   \n",
              "4                         1   \n",
              "\n",
              "                                     teaching_review  \\\n",
              "0  teacher are punctual but they should also give...   \n",
              "1                                              Good    \n",
              "2  Excellent lectures are delivered by teachers a...   \n",
              "3                                               Good   \n",
              "4  teachers give us all the information required ...   \n",
              "\n",
              "   coursecontent_sentiment_score  \\\n",
              "0                            0.0   \n",
              "1                           -1.0   \n",
              "2                            1.0   \n",
              "3                           -1.0   \n",
              "4                            1.0   \n",
              "\n",
              "                                coursecontent_review  \\\n",
              "0                     content of courses are average   \n",
              "1                                           Not good   \n",
              "2  All courses material provide very good knowled...   \n",
              "3  Content of course is perfectly in line with th...   \n",
              "4           content of courses improves my knowledge   \n",
              "\n",
              "   examination_sentiment_score  \\\n",
              "0                          1.0   \n",
              "1                          1.0   \n",
              "2                          1.0   \n",
              "3                         -1.0   \n",
              "4                          1.0   \n",
              "\n",
              "                                  examination_review  labwork_sentiment_score  \\\n",
              "0                        examination pattern is good                       -1   \n",
              "1                                               Good                        1   \n",
              "2  Exam pattern is up to the mark and the Cgpa de...                        1   \n",
              "3  Again the university tests students of their a...                        1   \n",
              "4                        examination pattern is good                        1   \n",
              "\n",
              "                                      labwork_review  \\\n",
              "0  not satisfactory, lab work must include latest...   \n",
              "1                                              Good    \n",
              "2  Lab work is properly covered in the labs by th...   \n",
              "3                                               Good   \n",
              "4  practical work provides detail knowledge of th...   \n",
              "\n",
              "   library_facilities_sentiment_score  \\\n",
              "0                                 0.0   \n",
              "1                                -1.0   \n",
              "2                                 1.0   \n",
              "3                                 0.0   \n",
              "4                                 1.0   \n",
              "\n",
              "                           library_facilities_review  \\\n",
              "0  library facilities are good but number of book...   \n",
              "1                                          Not good    \n",
              "2  Library facilities are excellent in terms of g...   \n",
              "3  Its the best thing i have seen in this univers...   \n",
              "4  library has huge collection of books from diff...   \n",
              "\n",
              "   extracurricular_sentiment_score  \\\n",
              "0                                1   \n",
              "1                                1   \n",
              "2                                1   \n",
              "3                               -1   \n",
              "4                                1   \n",
              "\n",
              "                              extracurricular_review  \n",
              "0  extracurricular activities are excellent and p...  \n",
              "1                                              Good   \n",
              "2  Extra curricular activities also help students...  \n",
              "3  Complete wastage of time. Again this opinion i...  \n",
              "4  extracurricular activities increases mental an...  "
            ],
            "text/html": [
              "\n",
              "  <div id=\"df-b4ac9d79-9389-4153-8447-b51163c532ea\">\n",
              "    <div class=\"colab-df-container\">\n",
              "      <div>\n",
              "<style scoped>\n",
              "    .dataframe tbody tr th:only-of-type {\n",
              "        vertical-align: middle;\n",
              "    }\n",
              "\n",
              "    .dataframe tbody tr th {\n",
              "        vertical-align: top;\n",
              "    }\n",
              "\n",
              "    .dataframe thead th {\n",
              "        text-align: right;\n",
              "    }\n",
              "</style>\n",
              "<table border=\"1\" class=\"dataframe\">\n",
              "  <thead>\n",
              "    <tr style=\"text-align: right;\">\n",
              "      <th></th>\n",
              "      <th>teaching_sentiment_score</th>\n",
              "      <th>teaching_review</th>\n",
              "      <th>coursecontent_sentiment_score</th>\n",
              "      <th>coursecontent_review</th>\n",
              "      <th>examination_sentiment_score</th>\n",
              "      <th>examination_review</th>\n",
              "      <th>labwork_sentiment_score</th>\n",
              "      <th>labwork_review</th>\n",
              "      <th>library_facilities_sentiment_score</th>\n",
              "      <th>library_facilities_review</th>\n",
              "      <th>extracurricular_sentiment_score</th>\n",
              "      <th>extracurricular_review</th>\n",
              "    </tr>\n",
              "  </thead>\n",
              "  <tbody>\n",
              "    <tr>\n",
              "      <th>0</th>\n",
              "      <td>0</td>\n",
              "      <td>teacher are punctual but they should also give...</td>\n",
              "      <td>0.0</td>\n",
              "      <td>content of courses are average</td>\n",
              "      <td>1.0</td>\n",
              "      <td>examination pattern is good</td>\n",
              "      <td>-1</td>\n",
              "      <td>not satisfactory, lab work must include latest...</td>\n",
              "      <td>0.0</td>\n",
              "      <td>library facilities are good but number of book...</td>\n",
              "      <td>1</td>\n",
              "      <td>extracurricular activities are excellent and p...</td>\n",
              "    </tr>\n",
              "    <tr>\n",
              "      <th>1</th>\n",
              "      <td>1</td>\n",
              "      <td>Good</td>\n",
              "      <td>-1.0</td>\n",
              "      <td>Not good</td>\n",
              "      <td>1.0</td>\n",
              "      <td>Good</td>\n",
              "      <td>1</td>\n",
              "      <td>Good</td>\n",
              "      <td>-1.0</td>\n",
              "      <td>Not good</td>\n",
              "      <td>1</td>\n",
              "      <td>Good</td>\n",
              "    </tr>\n",
              "    <tr>\n",
              "      <th>2</th>\n",
              "      <td>1</td>\n",
              "      <td>Excellent lectures are delivered by teachers a...</td>\n",
              "      <td>1.0</td>\n",
              "      <td>All courses material provide very good knowled...</td>\n",
              "      <td>1.0</td>\n",
              "      <td>Exam pattern is up to the mark and the Cgpa de...</td>\n",
              "      <td>1</td>\n",
              "      <td>Lab work is properly covered in the labs by th...</td>\n",
              "      <td>1.0</td>\n",
              "      <td>Library facilities are excellent in terms of g...</td>\n",
              "      <td>1</td>\n",
              "      <td>Extra curricular activities also help students...</td>\n",
              "    </tr>\n",
              "    <tr>\n",
              "      <th>3</th>\n",
              "      <td>1</td>\n",
              "      <td>Good</td>\n",
              "      <td>-1.0</td>\n",
              "      <td>Content of course is perfectly in line with th...</td>\n",
              "      <td>-1.0</td>\n",
              "      <td>Again the university tests students of their a...</td>\n",
              "      <td>1</td>\n",
              "      <td>Good</td>\n",
              "      <td>0.0</td>\n",
              "      <td>Its the best thing i have seen in this univers...</td>\n",
              "      <td>-1</td>\n",
              "      <td>Complete wastage of time. Again this opinion i...</td>\n",
              "    </tr>\n",
              "    <tr>\n",
              "      <th>4</th>\n",
              "      <td>1</td>\n",
              "      <td>teachers give us all the information required ...</td>\n",
              "      <td>1.0</td>\n",
              "      <td>content of courses improves my knowledge</td>\n",
              "      <td>1.0</td>\n",
              "      <td>examination pattern is good</td>\n",
              "      <td>1</td>\n",
              "      <td>practical work provides detail knowledge of th...</td>\n",
              "      <td>1.0</td>\n",
              "      <td>library has huge collection of books from diff...</td>\n",
              "      <td>1</td>\n",
              "      <td>extracurricular activities increases mental an...</td>\n",
              "    </tr>\n",
              "  </tbody>\n",
              "</table>\n",
              "</div>\n",
              "      <button class=\"colab-df-convert\" onclick=\"convertToInteractive('df-b4ac9d79-9389-4153-8447-b51163c532ea')\"\n",
              "              title=\"Convert this dataframe to an interactive table.\"\n",
              "              style=\"display:none;\">\n",
              "        \n",
              "  <svg xmlns=\"http://www.w3.org/2000/svg\" height=\"24px\"viewBox=\"0 0 24 24\"\n",
              "       width=\"24px\">\n",
              "    <path d=\"M0 0h24v24H0V0z\" fill=\"none\"/>\n",
              "    <path d=\"M18.56 5.44l.94 2.06.94-2.06 2.06-.94-2.06-.94-.94-2.06-.94 2.06-2.06.94zm-11 1L8.5 8.5l.94-2.06 2.06-.94-2.06-.94L8.5 2.5l-.94 2.06-2.06.94zm10 10l.94 2.06.94-2.06 2.06-.94-2.06-.94-.94-2.06-.94 2.06-2.06.94z\"/><path d=\"M17.41 7.96l-1.37-1.37c-.4-.4-.92-.59-1.43-.59-.52 0-1.04.2-1.43.59L10.3 9.45l-7.72 7.72c-.78.78-.78 2.05 0 2.83L4 21.41c.39.39.9.59 1.41.59.51 0 1.02-.2 1.41-.59l7.78-7.78 2.81-2.81c.8-.78.8-2.07 0-2.86zM5.41 20L4 18.59l7.72-7.72 1.47 1.35L5.41 20z\"/>\n",
              "  </svg>\n",
              "      </button>\n",
              "      \n",
              "  <style>\n",
              "    .colab-df-container {\n",
              "      display:flex;\n",
              "      flex-wrap:wrap;\n",
              "      gap: 12px;\n",
              "    }\n",
              "\n",
              "    .colab-df-convert {\n",
              "      background-color: #E8F0FE;\n",
              "      border: none;\n",
              "      border-radius: 50%;\n",
              "      cursor: pointer;\n",
              "      display: none;\n",
              "      fill: #1967D2;\n",
              "      height: 32px;\n",
              "      padding: 0 0 0 0;\n",
              "      width: 32px;\n",
              "    }\n",
              "\n",
              "    .colab-df-convert:hover {\n",
              "      background-color: #E2EBFA;\n",
              "      box-shadow: 0px 1px 2px rgba(60, 64, 67, 0.3), 0px 1px 3px 1px rgba(60, 64, 67, 0.15);\n",
              "      fill: #174EA6;\n",
              "    }\n",
              "\n",
              "    [theme=dark] .colab-df-convert {\n",
              "      background-color: #3B4455;\n",
              "      fill: #D2E3FC;\n",
              "    }\n",
              "\n",
              "    [theme=dark] .colab-df-convert:hover {\n",
              "      background-color: #434B5C;\n",
              "      box-shadow: 0px 1px 3px 1px rgba(0, 0, 0, 0.15);\n",
              "      filter: drop-shadow(0px 1px 2px rgba(0, 0, 0, 0.3));\n",
              "      fill: #FFFFFF;\n",
              "    }\n",
              "  </style>\n",
              "\n",
              "      <script>\n",
              "        const buttonEl =\n",
              "          document.querySelector('#df-b4ac9d79-9389-4153-8447-b51163c532ea button.colab-df-convert');\n",
              "        buttonEl.style.display =\n",
              "          google.colab.kernel.accessAllowed ? 'block' : 'none';\n",
              "\n",
              "        async function convertToInteractive(key) {\n",
              "          const element = document.querySelector('#df-b4ac9d79-9389-4153-8447-b51163c532ea');\n",
              "          const dataTable =\n",
              "            await google.colab.kernel.invokeFunction('convertToInteractive',\n",
              "                                                     [key], {});\n",
              "          if (!dataTable) return;\n",
              "\n",
              "          const docLinkHtml = 'Like what you see? Visit the ' +\n",
              "            '<a target=\"_blank\" href=https://colab.research.google.com/notebooks/data_table.ipynb>data table notebook</a>'\n",
              "            + ' to learn more about interactive tables.';\n",
              "          element.innerHTML = '';\n",
              "          dataTable['output_type'] = 'display_data';\n",
              "          await google.colab.output.renderOutput(dataTable, element);\n",
              "          const docLink = document.createElement('div');\n",
              "          docLink.innerHTML = docLinkHtml;\n",
              "          element.appendChild(docLink);\n",
              "        }\n",
              "      </script>\n",
              "    </div>\n",
              "  </div>\n",
              "  "
            ]
          },
          "metadata": {},
          "execution_count": 10
        }
      ]
    },
    {
      "cell_type": "markdown",
      "source": [
        "## Fix uniform datatype for score as float."
      ],
      "metadata": {
        "id": "AnO5miba314-"
      }
    },
    {
      "cell_type": "markdown",
      "source": [
        "Fisrt we create a copy of original dataframe and run the preprocesssing on the copy."
      ],
      "metadata": {
        "id": "SYXI6BLM2ACL"
      }
    },
    {
      "cell_type": "code",
      "source": [
        "df_processed  = df.copy()"
      ],
      "metadata": {
        "id": "htD_vXUE2IKV"
      },
      "execution_count": 11,
      "outputs": []
    },
    {
      "cell_type": "code",
      "source": [
        "df_processed['teaching_sentiment_score'] = df_processed['teaching_sentiment_score'].astype(float)\n"
      ],
      "metadata": {
        "id": "CsYgNamJ31j_"
      },
      "execution_count": 12,
      "outputs": []
    },
    {
      "cell_type": "code",
      "source": [
        "df_processed['labwork_sentiment_score'] = df_processed['labwork_sentiment_score'].astype(float)\n",
        "df_processed['extracurricular_sentiment_score'] = df_processed['extracurricular_sentiment_score'].astype(float)"
      ],
      "metadata": {
        "id": "AAx9ds644vEE"
      },
      "execution_count": 13,
      "outputs": []
    },
    {
      "cell_type": "code",
      "source": [
        "df_processed.info()"
      ],
      "metadata": {
        "colab": {
          "base_uri": "https://localhost:8080/"
        },
        "id": "i9c4d6mm43SY",
        "outputId": "b53f37f4-364a-4669-dd76-60077e536a91"
      },
      "execution_count": 14,
      "outputs": [
        {
          "output_type": "stream",
          "name": "stdout",
          "text": [
            "<class 'pandas.core.frame.DataFrame'>\n",
            "RangeIndex: 185 entries, 0 to 184\n",
            "Data columns (total 12 columns):\n",
            " #   Column                              Non-Null Count  Dtype  \n",
            "---  ------                              --------------  -----  \n",
            " 0   teaching_sentiment_score            185 non-null    float64\n",
            " 1   teaching_review                     185 non-null    object \n",
            " 2   coursecontent_sentiment_score       184 non-null    float64\n",
            " 3   coursecontent_review                185 non-null    object \n",
            " 4   examination_sentiment_score         184 non-null    float64\n",
            " 5   examination_review                  185 non-null    object \n",
            " 6   labwork_sentiment_score             185 non-null    float64\n",
            " 7   labwork_review                      185 non-null    object \n",
            " 8   library_facilities_sentiment_score  182 non-null    float64\n",
            " 9   library_facilities_review           185 non-null    object \n",
            " 10  extracurricular_sentiment_score     185 non-null    float64\n",
            " 11  extracurricular_review              185 non-null    object \n",
            "dtypes: float64(6), object(6)\n",
            "memory usage: 17.5+ KB\n"
          ]
        }
      ]
    },
    {
      "cell_type": "markdown",
      "source": [
        "Good! all columns have uniform datatype"
      ],
      "metadata": {
        "id": "bv8vQaKZ4_as"
      }
    },
    {
      "cell_type": "markdown",
      "source": [
        "## Handling Nan"
      ],
      "metadata": {
        "id": "A--tOHT91xeM"
      }
    },
    {
      "cell_type": "code",
      "source": [
        "df_processed.isnull().sum()"
      ],
      "metadata": {
        "colab": {
          "base_uri": "https://localhost:8080/"
        },
        "id": "VLhejeQI1zoU",
        "outputId": "d0092a32-6fcc-48c1-edf3-04ce2d5c85d8"
      },
      "execution_count": 15,
      "outputs": [
        {
          "output_type": "execute_result",
          "data": {
            "text/plain": [
              "teaching_sentiment_score              0\n",
              "teaching_review                       0\n",
              "coursecontent_sentiment_score         1\n",
              "coursecontent_review                  0\n",
              "examination_sentiment_score           1\n",
              "examination_review                    0\n",
              "labwork_sentiment_score               0\n",
              "labwork_review                        0\n",
              "library_facilities_sentiment_score    3\n",
              "library_facilities_review             0\n",
              "extracurricular_sentiment_score       0\n",
              "extracurricular_review                0\n",
              "dtype: int64"
            ]
          },
          "metadata": {},
          "execution_count": 15
        }
      ]
    },
    {
      "cell_type": "markdown",
      "source": [
        "coursecontent_sentiment_score, examination_sentiment_score has 1 null value and library_facilities_sentiment_score has 3 null values. Since the total number of records are less, deleteing the record will not be a good solution. So, lets impute the score based on other features for same record."
      ],
      "metadata": {
        "id": "yrwqCZEl20Ox"
      }
    },
    {
      "cell_type": "code",
      "source": [
        "#tst = df_processed[df_processed['coursecontent_sentiment_score'].isnull()]"
      ],
      "metadata": {
        "id": "Jv9bMxlf3QQh"
      },
      "execution_count": 16,
      "outputs": []
    },
    {
      "cell_type": "code",
      "source": [
        "# ASK ??"
      ],
      "metadata": {
        "id": "RI2owO_P9XFi"
      },
      "execution_count": 17,
      "outputs": []
    },
    {
      "cell_type": "code",
      "source": [
        "#tstdrop = tst.drop(columns= ['teaching_review','coursecontent_review','examination_review','labwork_review','library_facilities_review','extracurricular_review'])"
      ],
      "metadata": {
        "id": "u20wyBj3ARXB"
      },
      "execution_count": 18,
      "outputs": []
    },
    {
      "cell_type": "code",
      "source": [
        "#tstdrop.pivot(columns=['newcol'],index=['teaching_sentiment_score','coursecontent_sentiment_score','examination_sentiment_score','labwork_sentiment_score','library_facilities_sentiment_score','extracurricular_sentiment_score'])"
      ],
      "metadata": {
        "id": "ZSft0d_qB07N"
      },
      "execution_count": 19,
      "outputs": []
    },
    {
      "cell_type": "code",
      "source": [
        "#tyt = tstdrop.pivot(columns=['teaching_sentiment_score','labwork_sentiment_score','examination_sentiment_score','library_facilities_sentiment_score','extracurricular_sentiment_score'])"
      ],
      "metadata": {
        "id": "MsJrxEsyCnlg"
      },
      "execution_count": 20,
      "outputs": []
    },
    {
      "cell_type": "code",
      "source": [
        "#tyt = tstdrop.pivot(columns=['teaching_sentiment_score','labwork_sentiment_score','examination_sentiment_score','library_facilities_sentiment_score','extracurricular_sentiment_score'])"
      ],
      "metadata": {
        "id": "8jHo-oTlEFVM"
      },
      "execution_count": 21,
      "outputs": []
    },
    {
      "cell_type": "code",
      "source": [
        "# replace Nan with value that apprears before that record using ffill\n",
        "df_processed = df_processed.ffill()\n"
      ],
      "metadata": {
        "id": "QPov89zxEK-0"
      },
      "execution_count": 22,
      "outputs": []
    },
    {
      "cell_type": "code",
      "source": [
        "df_processed.isnull().sum()"
      ],
      "metadata": {
        "colab": {
          "base_uri": "https://localhost:8080/"
        },
        "id": "HUcvYCRPmIW5",
        "outputId": "db354600-6559-4f37-e831-5bc924840ec6"
      },
      "execution_count": 23,
      "outputs": [
        {
          "output_type": "execute_result",
          "data": {
            "text/plain": [
              "teaching_sentiment_score              0\n",
              "teaching_review                       0\n",
              "coursecontent_sentiment_score         0\n",
              "coursecontent_review                  0\n",
              "examination_sentiment_score           0\n",
              "examination_review                    0\n",
              "labwork_sentiment_score               0\n",
              "labwork_review                        0\n",
              "library_facilities_sentiment_score    0\n",
              "library_facilities_review             0\n",
              "extracurricular_sentiment_score       0\n",
              "extracurricular_review                0\n",
              "dtype: int64"
            ]
          },
          "metadata": {},
          "execution_count": 23
        }
      ]
    },
    {
      "cell_type": "markdown",
      "source": [
        "First Let us start with one feature, say teaching. Column 'teaching' will be target column while 'teaching.1' will be predictor."
      ],
      "metadata": {
        "id": "HG4-fOleklxP"
      }
    },
    {
      "cell_type": "markdown",
      "source": [
        "## Feature Selection for target and predictor"
      ],
      "metadata": {
        "id": "RG6D9rKymacw"
      }
    },
    {
      "cell_type": "code",
      "source": [
        "X = df_processed['teaching_review']\n",
        "y = df_processed['teaching_sentiment_score']"
      ],
      "metadata": {
        "id": "2vdZtnYIja4l"
      },
      "execution_count": 24,
      "outputs": []
    },
    {
      "cell_type": "markdown",
      "source": [
        "## Cleaning text"
      ],
      "metadata": {
        "id": "FQtEXABhm4LO"
      }
    },
    {
      "cell_type": "code",
      "source": [
        "import re\n",
        "import string\n",
        "def clean_text(text):\n",
        "  text = str(text).lower()\n",
        "  re.sub('\\w+\\d+\\w','',text)\n",
        "  re.sub('\\n','',text)\n",
        "  re.sub('[%s]' % re.escape(string.punctuation),'',text)\n",
        "  ## ASK - can be replaced with tokenization??\n",
        "  return text\n"
      ],
      "metadata": {
        "id": "FWUbTB58m8S-"
      },
      "execution_count": 25,
      "outputs": []
    },
    {
      "cell_type": "code",
      "source": [
        "X = X.apply(lambda x: clean_text(x))"
      ],
      "metadata": {
        "id": "7_j6ELXsoRxY"
      },
      "execution_count": 26,
      "outputs": []
    },
    {
      "cell_type": "code",
      "source": [
        "X"
      ],
      "metadata": {
        "colab": {
          "base_uri": "https://localhost:8080/"
        },
        "id": "B1yBXcEXrb9V",
        "outputId": "3e3ad1d9-55b4-41bc-966d-f04645deb79a"
      },
      "execution_count": 27,
      "outputs": [
        {
          "output_type": "execute_result",
          "data": {
            "text/plain": [
              "0      teacher are punctual but they should also give...\n",
              "1                                                  good \n",
              "2      excellent lectures are delivered by teachers a...\n",
              "3                                                   good\n",
              "4      teachers give us all the information required ...\n",
              "                             ...                        \n",
              "180    intraction is good and leacture delivery also ...\n",
              "181    all the given terms are good regarding the uni...\n",
              "182    all the terms are good regarding the universit...\n",
              "183    some of the teacher are un experienced. also t...\n",
              "184                                     it is going good\n",
              "Name: teaching_review, Length: 185, dtype: object"
            ]
          },
          "metadata": {},
          "execution_count": 27
        }
      ]
    },
    {
      "cell_type": "markdown",
      "source": [
        "## Remove stop words"
      ],
      "metadata": {
        "id": "YqF337xho0p2"
      }
    },
    {
      "cell_type": "code",
      "source": [
        "import nltk\n",
        "nltk.download('stopwords')\n",
        "from nltk.corpus import stopwords\n",
        "stop_words = set(stopwords.words('english'))\n"
      ],
      "metadata": {
        "colab": {
          "base_uri": "https://localhost:8080/"
        },
        "id": "kD-yn7ewpfZl",
        "outputId": "0cbb88b6-091c-495a-e9c2-6d9fe55c466d"
      },
      "execution_count": 28,
      "outputs": [
        {
          "output_type": "stream",
          "name": "stderr",
          "text": [
            "[nltk_data] Downloading package stopwords to /root/nltk_data...\n",
            "[nltk_data]   Unzipping corpora/stopwords.zip.\n"
          ]
        }
      ]
    },
    {
      "cell_type": "code",
      "source": [
        "stop_words"
      ],
      "metadata": {
        "colab": {
          "base_uri": "https://localhost:8080/"
        },
        "id": "MichnDyopmWu",
        "outputId": "b4b431a1-cd9f-4ee6-d614-1e4e2aa0b15f"
      },
      "execution_count": 29,
      "outputs": [
        {
          "output_type": "execute_result",
          "data": {
            "text/plain": [
              "{'a',\n",
              " 'about',\n",
              " 'above',\n",
              " 'after',\n",
              " 'again',\n",
              " 'against',\n",
              " 'ain',\n",
              " 'all',\n",
              " 'am',\n",
              " 'an',\n",
              " 'and',\n",
              " 'any',\n",
              " 'are',\n",
              " 'aren',\n",
              " \"aren't\",\n",
              " 'as',\n",
              " 'at',\n",
              " 'be',\n",
              " 'because',\n",
              " 'been',\n",
              " 'before',\n",
              " 'being',\n",
              " 'below',\n",
              " 'between',\n",
              " 'both',\n",
              " 'but',\n",
              " 'by',\n",
              " 'can',\n",
              " 'couldn',\n",
              " \"couldn't\",\n",
              " 'd',\n",
              " 'did',\n",
              " 'didn',\n",
              " \"didn't\",\n",
              " 'do',\n",
              " 'does',\n",
              " 'doesn',\n",
              " \"doesn't\",\n",
              " 'doing',\n",
              " 'don',\n",
              " \"don't\",\n",
              " 'down',\n",
              " 'during',\n",
              " 'each',\n",
              " 'few',\n",
              " 'for',\n",
              " 'from',\n",
              " 'further',\n",
              " 'had',\n",
              " 'hadn',\n",
              " \"hadn't\",\n",
              " 'has',\n",
              " 'hasn',\n",
              " \"hasn't\",\n",
              " 'have',\n",
              " 'haven',\n",
              " \"haven't\",\n",
              " 'having',\n",
              " 'he',\n",
              " 'her',\n",
              " 'here',\n",
              " 'hers',\n",
              " 'herself',\n",
              " 'him',\n",
              " 'himself',\n",
              " 'his',\n",
              " 'how',\n",
              " 'i',\n",
              " 'if',\n",
              " 'in',\n",
              " 'into',\n",
              " 'is',\n",
              " 'isn',\n",
              " \"isn't\",\n",
              " 'it',\n",
              " \"it's\",\n",
              " 'its',\n",
              " 'itself',\n",
              " 'just',\n",
              " 'll',\n",
              " 'm',\n",
              " 'ma',\n",
              " 'me',\n",
              " 'mightn',\n",
              " \"mightn't\",\n",
              " 'more',\n",
              " 'most',\n",
              " 'mustn',\n",
              " \"mustn't\",\n",
              " 'my',\n",
              " 'myself',\n",
              " 'needn',\n",
              " \"needn't\",\n",
              " 'no',\n",
              " 'nor',\n",
              " 'not',\n",
              " 'now',\n",
              " 'o',\n",
              " 'of',\n",
              " 'off',\n",
              " 'on',\n",
              " 'once',\n",
              " 'only',\n",
              " 'or',\n",
              " 'other',\n",
              " 'our',\n",
              " 'ours',\n",
              " 'ourselves',\n",
              " 'out',\n",
              " 'over',\n",
              " 'own',\n",
              " 're',\n",
              " 's',\n",
              " 'same',\n",
              " 'shan',\n",
              " \"shan't\",\n",
              " 'she',\n",
              " \"she's\",\n",
              " 'should',\n",
              " \"should've\",\n",
              " 'shouldn',\n",
              " \"shouldn't\",\n",
              " 'so',\n",
              " 'some',\n",
              " 'such',\n",
              " 't',\n",
              " 'than',\n",
              " 'that',\n",
              " \"that'll\",\n",
              " 'the',\n",
              " 'their',\n",
              " 'theirs',\n",
              " 'them',\n",
              " 'themselves',\n",
              " 'then',\n",
              " 'there',\n",
              " 'these',\n",
              " 'they',\n",
              " 'this',\n",
              " 'those',\n",
              " 'through',\n",
              " 'to',\n",
              " 'too',\n",
              " 'under',\n",
              " 'until',\n",
              " 'up',\n",
              " 've',\n",
              " 'very',\n",
              " 'was',\n",
              " 'wasn',\n",
              " \"wasn't\",\n",
              " 'we',\n",
              " 'were',\n",
              " 'weren',\n",
              " \"weren't\",\n",
              " 'what',\n",
              " 'when',\n",
              " 'where',\n",
              " 'which',\n",
              " 'while',\n",
              " 'who',\n",
              " 'whom',\n",
              " 'why',\n",
              " 'will',\n",
              " 'with',\n",
              " 'won',\n",
              " \"won't\",\n",
              " 'wouldn',\n",
              " \"wouldn't\",\n",
              " 'y',\n",
              " 'you',\n",
              " \"you'd\",\n",
              " \"you'll\",\n",
              " \"you're\",\n",
              " \"you've\",\n",
              " 'your',\n",
              " 'yours',\n",
              " 'yourself',\n",
              " 'yourselves'}"
            ]
          },
          "metadata": {},
          "execution_count": 29
        }
      ]
    },
    {
      "cell_type": "code",
      "source": [
        "def remove_stop_words(text):\n",
        "  word_list = str(text).split(\" \")\n",
        "  words = [str(word) for word in word_list if not word in stop_words]\n",
        "  return words\n",
        "\n"
      ],
      "metadata": {
        "id": "l4m6_6tuo3l5"
      },
      "execution_count": 30,
      "outputs": []
    },
    {
      "cell_type": "code",
      "source": [
        "X =  X.apply(lambda x : remove_stop_words(x))"
      ],
      "metadata": {
        "id": "iZa3Zl3JqqNQ"
      },
      "execution_count": 31,
      "outputs": []
    },
    {
      "cell_type": "code",
      "source": [
        "X"
      ],
      "metadata": {
        "colab": {
          "base_uri": "https://localhost:8080/"
        },
        "id": "GQ0vdRcwsfxj",
        "outputId": "53e50e25-441b-4231-8243-5fdb30b96a63"
      },
      "execution_count": 32,
      "outputs": [
        {
          "output_type": "execute_result",
          "data": {
            "text/plain": [
              "0      [teacher, punctual, also, give, us, practical,...\n",
              "1                                               [good, ]\n",
              "2      [excellent, lectures, delivered, teachers, tea...\n",
              "3                                                 [good]\n",
              "4      [teachers, give, us, information, required, im...\n",
              "                             ...                        \n",
              "180    [intraction, good, leacture, delivery, also, g...\n",
              "181        [given, terms, good, regarding, university, ]\n",
              "182    [terms, good, regarding, university, activities.]\n",
              "183    [teacher, un, experienced., also, unfair, bais...\n",
              "184                                        [going, good]\n",
              "Name: teaching_review, Length: 185, dtype: object"
            ]
          },
          "metadata": {},
          "execution_count": 32
        }
      ]
    },
    {
      "cell_type": "markdown",
      "source": [
        "TODO - visualization"
      ],
      "metadata": {
        "id": "CmuGv10LtQiu"
      }
    },
    {
      "cell_type": "markdown",
      "source": [
        "## Stemming"
      ],
      "metadata": {
        "id": "-6S6F6KAtPXM"
      }
    },
    {
      "cell_type": "code",
      "source": [
        "\"\"\"from nltk import PorterStemmer\n",
        "ps = PorterStemmer()\n",
        "def stem_word(review):\n",
        "  review_stem = []\n",
        "  for word in review:\n",
        "    word = ps.stem(word)\n",
        "    review_stem.append(word)\n",
        "  return review_stem\"\"\""
      ],
      "metadata": {
        "colab": {
          "base_uri": "https://localhost:8080/",
          "height": 53
        },
        "id": "9bvhlsHGtWfS",
        "outputId": "4d311a2b-71e1-459a-ab3b-46c12ee40db8"
      },
      "execution_count": 33,
      "outputs": [
        {
          "output_type": "execute_result",
          "data": {
            "text/plain": [
              "'from nltk import PorterStemmer\\nps = PorterStemmer()\\ndef stem_word(review):\\n  review_stem = []\\n  for word in review:\\n    word = ps.stem(word)\\n    review_stem.append(word)\\n  return review_stem'"
            ],
            "application/vnd.google.colaboratory.intrinsic+json": {
              "type": "string"
            }
          },
          "metadata": {},
          "execution_count": 33
        }
      ]
    },
    {
      "cell_type": "code",
      "source": [
        "#X = X.apply(lambda x: stem_word(x))"
      ],
      "metadata": {
        "id": "ZBgZKEXNJiyB"
      },
      "execution_count": 34,
      "outputs": []
    },
    {
      "cell_type": "code",
      "source": [
        "X"
      ],
      "metadata": {
        "colab": {
          "base_uri": "https://localhost:8080/"
        },
        "id": "Hr4K-2YJK6mh",
        "outputId": "66f32617-f741-4b4b-ae4a-1173e7351d79"
      },
      "execution_count": 35,
      "outputs": [
        {
          "output_type": "execute_result",
          "data": {
            "text/plain": [
              "0      [teacher, punctual, also, give, us, practical,...\n",
              "1                                               [good, ]\n",
              "2      [excellent, lectures, delivered, teachers, tea...\n",
              "3                                                 [good]\n",
              "4      [teachers, give, us, information, required, im...\n",
              "                             ...                        \n",
              "180    [intraction, good, leacture, delivery, also, g...\n",
              "181        [given, terms, good, regarding, university, ]\n",
              "182    [terms, good, regarding, university, activities.]\n",
              "183    [teacher, un, experienced., also, unfair, bais...\n",
              "184                                        [going, good]\n",
              "Name: teaching_review, Length: 185, dtype: object"
            ]
          },
          "metadata": {},
          "execution_count": 35
        }
      ]
    },
    {
      "cell_type": "markdown",
      "source": [
        "As we can see that some words aftr stemming have lost their meaning like lectur, deliv etc. So lematizing should be a better step."
      ],
      "metadata": {
        "id": "k2JA8QAwLMxV"
      }
    },
    {
      "cell_type": "markdown",
      "source": [
        "## Lemmatization"
      ],
      "metadata": {
        "id": "UPS5TFN3LY9K"
      }
    },
    {
      "cell_type": "code",
      "source": [
        "from nltk.stem import WordNetLemmatizer\n",
        "nltk.download('wordnet')\n",
        "nltk.download('omw-1.4')\n",
        "lemmatizer = WordNetLemmatizer()\n",
        "\n",
        "def lemmatize_word(review):\n",
        "  lemmatized_review = []\n",
        "  for word in review:\n",
        "    lemmatized_review.append(lemmatizer.lemmatize(word))\n",
        "  return lemmatized_review\n",
        "\n"
      ],
      "metadata": {
        "colab": {
          "base_uri": "https://localhost:8080/"
        },
        "id": "vA6X-j_OLkve",
        "outputId": "e6908e05-1f0e-4924-eaa2-da1290ad03b3"
      },
      "execution_count": 36,
      "outputs": [
        {
          "output_type": "stream",
          "name": "stderr",
          "text": [
            "[nltk_data] Downloading package wordnet to /root/nltk_data...\n",
            "[nltk_data] Downloading package omw-1.4 to /root/nltk_data...\n"
          ]
        }
      ]
    },
    {
      "cell_type": "code",
      "source": [
        "X = X.apply(lambda x: lemmatize_word(x))"
      ],
      "metadata": {
        "id": "7jwWqAoAMExm"
      },
      "execution_count": 37,
      "outputs": []
    },
    {
      "cell_type": "code",
      "source": [
        "X"
      ],
      "metadata": {
        "colab": {
          "base_uri": "https://localhost:8080/"
        },
        "id": "C12R7vYNMSL5",
        "outputId": "2f82ef38-abfa-4b90-b767-54bf1fbb0d10"
      },
      "execution_count": 38,
      "outputs": [
        {
          "output_type": "execute_result",
          "data": {
            "text/plain": [
              "0      [teacher, punctual, also, give, u, practical, ...\n",
              "1                                               [good, ]\n",
              "2      [excellent, lecture, delivered, teacher, teach...\n",
              "3                                                 [good]\n",
              "4      [teacher, give, u, information, required, impr...\n",
              "                             ...                        \n",
              "180    [intraction, good, leacture, delivery, also, g...\n",
              "181         [given, term, good, regarding, university, ]\n",
              "182     [term, good, regarding, university, activities.]\n",
              "183    [teacher, un, experienced., also, unfair, bais...\n",
              "184                                        [going, good]\n",
              "Name: teaching_review, Length: 185, dtype: object"
            ]
          },
          "metadata": {},
          "execution_count": 38
        }
      ]
    },
    {
      "cell_type": "code",
      "source": [
        "def convert_to_text(review):\n",
        "  review_text = ''\n",
        "  for word in review:\n",
        "      review_text +=word\n",
        "      review_text+=\" \"\n",
        "  return review_text"
      ],
      "metadata": {
        "id": "fjxA-B6HPpEJ"
      },
      "execution_count": 39,
      "outputs": []
    },
    {
      "cell_type": "code",
      "source": [
        "X = X.apply(lambda x: convert_to_text(x))"
      ],
      "metadata": {
        "id": "WL6eG10eRsV-"
      },
      "execution_count": 40,
      "outputs": []
    },
    {
      "cell_type": "code",
      "source": [
        "X"
      ],
      "metadata": {
        "colab": {
          "base_uri": "https://localhost:8080/"
        },
        "id": "NLLQC_-dR0is",
        "outputId": "7184412a-14ea-469e-ca33-44e3add0abd8"
      },
      "execution_count": 41,
      "outputs": [
        {
          "output_type": "execute_result",
          "data": {
            "text/plain": [
              "0      teacher punctual also give u practical knowled...\n",
              "1                                                 good  \n",
              "2      excellent lecture delivered teacher teacher pu...\n",
              "3                                                  good \n",
              "4      teacher give u information required improve pe...\n",
              "                             ...                        \n",
              "180    intraction good leacture delivery also good pu...\n",
              "181               given term good regarding university  \n",
              "182          term good regarding university activities. \n",
              "183    teacher un experienced. also unfair baised. in...\n",
              "184                                          going good \n",
              "Name: teaching_review, Length: 185, dtype: object"
            ]
          },
          "metadata": {},
          "execution_count": 41
        }
      ]
    },
    {
      "cell_type": "markdown",
      "source": [
        "Algorithms can handle only numbers and not text, so we need to convert the text into number matrix with TF-IDF."
      ],
      "metadata": {
        "id": "K717vsXVOj2p"
      }
    },
    {
      "cell_type": "markdown",
      "source": [
        "# TF-IDF"
      ],
      "metadata": {
        "id": "Un6cN4-kOze9"
      }
    },
    {
      "cell_type": "code",
      "source": [
        "from sklearn.feature_extraction.text import TfidfVectorizer\n",
        "tfidf = TfidfVectorizer(max_features=5000,ngram_range=(2,2))"
      ],
      "metadata": {
        "id": "nBeoR_8bO-0z"
      },
      "execution_count": 42,
      "outputs": []
    },
    {
      "cell_type": "code",
      "source": [
        "X = tfidf.fit_transform(X)"
      ],
      "metadata": {
        "id": "Pkrus7ALPSF0"
      },
      "execution_count": 43,
      "outputs": []
    },
    {
      "cell_type": "code",
      "source": [
        "X.shape"
      ],
      "metadata": {
        "colab": {
          "base_uri": "https://localhost:8080/"
        },
        "id": "TRcxQoxAR9pC",
        "outputId": "f996feba-556a-423c-b9de-400003496db6"
      },
      "execution_count": 44,
      "outputs": [
        {
          "output_type": "execute_result",
          "data": {
            "text/plain": [
              "(185, 582)"
            ]
          },
          "metadata": {},
          "execution_count": 44
        }
      ]
    },
    {
      "cell_type": "markdown",
      "source": [
        "## Balance data"
      ],
      "metadata": {
        "id": "7BnHCMoWbwEp"
      }
    },
    {
      "cell_type": "code",
      "source": [
        "sentiment_vc = y.value_counts()"
      ],
      "metadata": {
        "id": "IoP1mQAdb9xM"
      },
      "execution_count": 45,
      "outputs": []
    },
    {
      "cell_type": "code",
      "source": [
        "plt.figure(figsize = (8,4))\n",
        "plt.bar(sentiment_vc.index, sentiment_vc.values)\n",
        "plt.title('Data distribution for sentiments')"
      ],
      "metadata": {
        "colab": {
          "base_uri": "https://localhost:8080/",
          "height": 298
        },
        "id": "oVEPCo0_cROE",
        "outputId": "8b31683f-61fb-4570-831d-b9edcb0090b9"
      },
      "execution_count": 46,
      "outputs": [
        {
          "output_type": "execute_result",
          "data": {
            "text/plain": [
              "Text(0.5, 1.0, 'Data distribution for sentiments')"
            ]
          },
          "metadata": {},
          "execution_count": 46
        },
        {
          "output_type": "display_data",
          "data": {
            "text/plain": [
              "<Figure size 576x288 with 1 Axes>"
            ],
            "image/png": "[encoded data removed]"
          },
          "metadata": {
            "needs_background": "light"
          }
        }
      ]
    },
    {
      "cell_type": "markdown",
      "source": [
        "Clearly the data is imbalanced. We can use SMOTE - synthetic minority oversampling technique"
      ],
      "metadata": {
        "id": "H2T_UuxfcsjI"
      }
    },
    {
      "cell_type": "markdown",
      "source": [
        "## UpSampling with SMOTE"
      ],
      "metadata": {
        "id": "2TEV8pjtdd6_"
      }
    },
    {
      "cell_type": "code",
      "source": [
        "from imblearn.over_sampling import SMOTE\n",
        "over_sampling = SMOTE(random_state=4)\n",
        "X_over,y_over = over_sampling.fit_resample(X,y)"
      ],
      "metadata": {
        "id": "9C57oOv_eQoQ"
      },
      "execution_count": 47,
      "outputs": []
    },
    {
      "cell_type": "code",
      "source": [
        "from collections import Counter\n",
        "print(f'Original dataset shape {Counter(y)}')\n",
        "print(f'Resampled dataset shape {Counter(y_over)}')"
      ],
      "metadata": {
        "colab": {
          "base_uri": "https://localhost:8080/"
        },
        "id": "BixoylzLSSKu",
        "outputId": "411fcdb9-8f15-4e82-fd65-9ef3b2b5cb68"
      },
      "execution_count": 48,
      "outputs": [
        {
          "output_type": "stream",
          "name": "stdout",
          "text": [
            "Original dataset shape Counter({1.0: 137, 0.0: 35, -1.0: 13})\n",
            "Resampled dataset shape Counter({0.0: 137, 1.0: 137, -1.0: 137})\n"
          ]
        }
      ]
    },
    {
      "cell_type": "markdown",
      "source": [
        "## Train Test Split"
      ],
      "metadata": {
        "id": "lZ5PqEydTUF2"
      }
    },
    {
      "cell_type": "code",
      "source": [
        "X_train, X_test, y_train, y_test = train_test_split(X_over, y_over, test_size=0.25, random_state=0)"
      ],
      "metadata": {
        "id": "35oeR-PWTkby"
      },
      "execution_count": 49,
      "outputs": []
    },
    {
      "cell_type": "markdown",
      "source": [
        "## Model Building"
      ],
      "metadata": {
        "id": "AAB1ynbYTxPS"
      }
    },
    {
      "cell_type": "markdown",
      "source": [
        "We will create instances of all the available ML algo for supervised learning and review performance."
      ],
      "metadata": {
        "id": "ibD3qU5gT1AE"
      }
    },
    {
      "cell_type": "code",
      "source": [
        "from sklearn.linear_model import LogisticRegression\n",
        "from sklearn.naive_bayes import GaussianNB\n",
        "from sklearn.naive_bayes import BernoulliNB\n",
        "from sklearn.tree import DecisionTreeClassifier\n",
        "from sklearn.neighbors import KNeighborsClassifier\n",
        "from sklearn.svm import SVC\n",
        "from sklearn.model_selection import cross_val_score"
      ],
      "metadata": {
        "id": "B3RRCIynT--g"
      },
      "execution_count": 50,
      "outputs": []
    },
    {
      "cell_type": "code",
      "source": [
        "lr_model = LogisticRegression(random_state=0)\n",
        "knn_model = KNeighborsClassifier()\n",
        "svc_model = SVC()\n",
        "dt_model = DecisionTreeClassifier()\n",
        "nb_model = BernoulliNB()\n",
        "\n",
        "model_dict = {0:lr_model,1:knn_model,2:svc_model,3:dt_model, 4:nb_model}"
      ],
      "metadata": {
        "id": "wInEGh7OVd4y"
      },
      "execution_count": 51,
      "outputs": []
    },
    {
      "cell_type": "markdown",
      "source": [
        "Evauate each model on text data."
      ],
      "metadata": {
        "id": "sigzfXdTWWG1"
      }
    },
    {
      "cell_type": "code",
      "source": [
        "for key, model in model_dict.items():  \n",
        "  score = cross_val_score(model,X_over,y_over,cv=10, scoring ='accuracy').mean()  \n",
        "  print(f'{model} accuracy : {score}')"
      ],
      "metadata": {
        "colab": {
          "base_uri": "https://localhost:8080/"
        },
        "id": "lW1Jvts_WVnN",
        "outputId": "bd17f6d0-9ca1-4765-879a-f3a2da67f780"
      },
      "execution_count": 52,
      "outputs": [
        {
          "output_type": "stream",
          "name": "stdout",
          "text": [
            "LogisticRegression(random_state=0) accuracy : 0.7860046457607432\n",
            "KNeighborsClassifier() accuracy : 0.756678281068525\n",
            "SVC() accuracy : 0.795760743321719\n",
            "DecisionTreeClassifier() accuracy : 0.8322299651567946\n",
            "BernoulliNB() accuracy : 0.8324041811846691\n"
          ]
        }
      ]
    },
    {
      "cell_type": "markdown",
      "source": [
        "For GAusian Naive Bayes"
      ],
      "metadata": {
        "id": "Lw2DT2M3mbf4"
      }
    },
    {
      "cell_type": "code",
      "source": [
        "\"\"\"from sklearn.naive_bayes import GaussianNB\n",
        "gnb_model = GaussianNB()\n",
        "X_over_dense = np.asarray((X_over.todense())\n",
        "score = cross_val_score(gnb_model,X_over_dense,y_over,cv=10, scoring ='accuracy').mean()  \n",
        "print(score)\"\"\""
      ],
      "metadata": {
        "colab": {
          "base_uri": "https://localhost:8080/",
          "height": 53
        },
        "id": "-qn1-tPEmdtY",
        "outputId": "519c7dbf-58c9-4032-be89-4886f5e5080e"
      },
      "execution_count": 53,
      "outputs": [
        {
          "output_type": "execute_result",
          "data": {
            "text/plain": [
              "\"from sklearn.naive_bayes import GaussianNB\\ngnb_model = GaussianNB()\\nX_over_dense = np.asarray((X_over.todense())\\nscore = cross_val_score(gnb_model,X_over_dense,y_over,cv=10, scoring ='accuracy').mean()  \\nprint(score)\""
            ],
            "application/vnd.google.colaboratory.intrinsic+json": {
              "type": "string"
            }
          },
          "metadata": {},
          "execution_count": 53
        }
      ]
    },
    {
      "cell_type": "markdown",
      "source": [
        "Decesion tree and Naive Bayes gave better results."
      ],
      "metadata": {
        "id": "NsD3H8FldEZw"
      }
    },
    {
      "cell_type": "markdown",
      "source": [
        "## Logistic Regression with Hyperparameter tuning"
      ],
      "metadata": {
        "id": "hGbFAsqPdqmW"
      }
    },
    {
      "cell_type": "markdown",
      "source": [
        "Let us evaluate with GridSearchCV hyperparameter tuning can we improve Logisticregression score."
      ],
      "metadata": {
        "id": "v9hODVLJdsMY"
      }
    },
    {
      "cell_type": "markdown",
      "source": [
        "We could increase the accuracy of logistricregression model ny 2% after hyperparameter tuning."
      ],
      "metadata": {
        "id": "uY-2BFBshLKj"
      }
    },
    {
      "cell_type": "code",
      "source": [
        "from sklearn.model_selection import GridSearchCV\n",
        "param_grid = {'C': np.logspace(-4, 4, 50),\n",
        "             'penalty':['l1', 'l2']}\n",
        "clf = GridSearchCV(LogisticRegression(random_state=0), param_grid,cv=5, verbose=0,n_jobs=-1)\n",
        "best_model = clf.fit(X_train,y_train)\n",
        "print(best_model.best_estimator_)\n",
        "print(\"The mean accuracy of the model is:\",best_model.score(X_test,y_test))"
      ],
      "metadata": {
        "id": "TJhVW_C_he5Y"
      },
      "execution_count": null,
      "outputs": []
    },
    {
      "cell_type": "code",
      "source": [
        "print(\"tuned hpyerparameters :(best parameters) \",best_model.best_params_)\n",
        "print(\"accuracy :\",best_model.best_score_)"
      ],
      "metadata": {
        "colab": {
          "base_uri": "https://localhost:8080/"
        },
        "id": "JNSHBWLMhwAe",
        "outputId": "966458c2-037a-4fd7-97aa-3d80261961ad"
      },
      "execution_count": 56,
      "outputs": [
        {
          "output_type": "stream",
          "name": "stdout",
          "text": [
            "tuned hpyerparameters :(best parameters)  {'C': 10000.0, 'penalty': 'l2'}\n",
            "accuracy : 0.8115811739820202\n"
          ]
        }
      ]
    },
    {
      "cell_type": "code",
      "source": [
        "logreg = LogisticRegression(C=10000.0, random_state=0,solver='lbfgs', max_iter=60)\n",
        "logreg.fit(X_train, y_train)\n",
        "y_pred = logreg.predict(X_test)\n",
        "print('Accuracy of logistic regression classifier on test set: {:.2f}'.format(logreg.score(X_test, y_test)))"
      ],
      "metadata": {
        "id": "wy4baOOpiRjC"
      },
      "execution_count": null,
      "outputs": []
    },
    {
      "cell_type": "markdown",
      "source": [
        "LogisticRegression(C=10000.0, random_state=0)\n",
        "The mean accuracy of the model is: 0.87"
      ],
      "metadata": {
        "id": "4KXuvzb9iJYr"
      }
    },
    {
      "cell_type": "markdown",
      "source": [
        "Accuracy of logistic regression classifier on test set: 0.87\n",
        "/usr/local/lib/python3.7/dist-packages/sklearn/linear_model/_logistic.py:818: ConvergenceWarning: lbfgs failed to converge (status=1):\n",
        "STOP: TOTAL NO. of ITERATIONS REACHED LIMIT.\n",
        "\n",
        "Fix pass value to lr object -> solver='lbfgs', max_iter=100\n",
        "\n",
        "ASK- how to fix??"
      ],
      "metadata": {
        "id": "FT_jzXG0iL6G"
      }
    },
    {
      "cell_type": "markdown",
      "source": [
        "## Model Evaluation\n"
      ],
      "metadata": {
        "id": "0-wwwOjFj5Su"
      }
    },
    {
      "cell_type": "code",
      "source": [
        "cm = confusion_matrix(y_test,y_pred)"
      ],
      "metadata": {
        "id": "1uwXKPuDj7oh"
      },
      "execution_count": 58,
      "outputs": []
    },
    {
      "cell_type": "code",
      "source": [
        "sb.heatmap(cm,annot=True, fmt=\"d\",linecolor=\"white\",)"
      ],
      "metadata": {
        "colab": {
          "base_uri": "https://localhost:8080/",
          "height": 282
        },
        "id": "rFpPpHlvkErr",
        "outputId": "f34bcd25-aa68-4b7c-b9a3-abcc64547858"
      },
      "execution_count": 59,
      "outputs": [
        {
          "output_type": "execute_result",
          "data": {
            "text/plain": [
              "<matplotlib.axes._subplots.AxesSubplot at 0x7f9bac302f10>"
            ]
          },
          "metadata": {},
          "execution_count": 59
        },
        {
          "output_type": "display_data",
          "data": {
            "text/plain": [
              "<Figure size 432x288 with 2 Axes>"
            ],
            "image/png": "[encoded data removed]"
          },
          "metadata": {
            "needs_background": "light"
          }
        }
      ]
    },
    {
      "cell_type": "markdown",
      "source": [
        "ASK ? how to map to -1,0,1? or text?"
      ],
      "metadata": {
        "id": "tBNteBH-koEk"
      }
    },
    {
      "cell_type": "markdown",
      "source": [
        "# Implementation with LSTM and RNN"
      ],
      "metadata": {
        "id": "YLwdM-4pS-5D"
      }
    },
    {
      "cell_type": "markdown",
      "source": [
        "## Feature selection"
      ],
      "metadata": {
        "id": "f6HPfneXq-Ta"
      }
    },
    {
      "cell_type": "code",
      "source": [
        "no_of_classes = y.nunique()\n",
        "no_of_classes"
      ],
      "metadata": {
        "id": "qR4xpPISYKAK"
      },
      "execution_count": null,
      "outputs": []
    },
    {
      "cell_type": "markdown",
      "source": [
        "## Tokenize"
      ],
      "metadata": {
        "id": "MiKhcUp9TGH6"
      }
    },
    {
      "cell_type": "code",
      "source": [
        "from keras.preprocessing.text import Tokenizer\n",
        "max_features = 10000\n",
        "tokenizer = Tokenizer(num_words=max_features)\n",
        "tokenizer.fit_on_texts(list(X))\n",
        "X = tokenizer.texts_to_sequences(X)\n"
      ],
      "metadata": {
        "id": "1h7lWHzIRZiS"
      },
      "execution_count": null,
      "outputs": []
    },
    {
      "cell_type": "code",
      "source": [
        "from keras.preprocessing import sequence\n",
        "max_words = 30\n",
        "X = sequence.pad_sequences(X, maxlen = max_words, padding = 'pre')"
      ],
      "metadata": {
        "id": "YsKIWtWYStPJ"
      },
      "execution_count": null,
      "outputs": []
    },
    {
      "cell_type": "code",
      "source": [
        "X[99]"
      ],
      "metadata": {
        "id": "H8itCQ2oTTEU"
      },
      "execution_count": null,
      "outputs": []
    },
    {
      "cell_type": "code",
      "source": [
        "y = np.asarray(y)"
      ],
      "metadata": {
        "id": "ItVE8jEkVdRd"
      },
      "execution_count": null,
      "outputs": []
    },
    {
      "cell_type": "code",
      "source": [
        "y"
      ],
      "metadata": {
        "id": "MUqtswINXyUf"
      },
      "execution_count": null,
      "outputs": []
    },
    {
      "cell_type": "markdown",
      "source": [
        "## Train Test Split"
      ],
      "metadata": {
        "id": "c2H7TYUGrKw1"
      }
    },
    {
      "cell_type": "code",
      "source": [
        "X_train, X_test, y_train, y_test = train_test_split(X,y,test_size = 0.3, random_state = 4)"
      ],
      "metadata": {
        "id": "oGDzQBy0qcPP"
      },
      "execution_count": null,
      "outputs": []
    },
    {
      "cell_type": "code",
      "source": [
        "X_train.shape"
      ],
      "metadata": {
        "id": "YIALnD_POdSL"
      },
      "execution_count": null,
      "outputs": []
    },
    {
      "cell_type": "code",
      "source": [
        "y_train.shape"
      ],
      "metadata": {
        "id": "2SWFIzxcVJ51"
      },
      "execution_count": null,
      "outputs": []
    },
    {
      "cell_type": "code",
      "source": [
        "no_of_classes,y"
      ],
      "metadata": {
        "id": "6RL-JuaWVRTl"
      },
      "execution_count": null,
      "outputs": []
    },
    {
      "cell_type": "markdown",
      "source": [
        "## Model creation"
      ],
      "metadata": {
        "id": "1cwLJejCrIB9"
      }
    },
    {
      "cell_type": "code",
      "source": [
        "input_dim = 10000\n",
        "output_dim = 100\n",
        "model = keras.Sequential()\n",
        "\n",
        "model.add(Embedding(input_dim,output_dim, input_length = X_train.shape[1]))\n",
        "model.add(LSTM(100, dropout = 0.2, return_sequences=True))\n",
        "model.add(Dense(no_of_classes,activation = 'softmax'))\n",
        "\n",
        "model.compile(optimizer='adam',loss = 'categorical_crossentropy',metrics = ['accuracy'])"
      ],
      "metadata": {
        "id": "Sp12t9CArOMu"
      },
      "execution_count": null,
      "outputs": []
    },
    {
      "cell_type": "code",
      "source": [
        "model.fit(X_train,y_train,batch_size = 75, epochs = 50,verbose=2)"
      ],
      "metadata": {
        "id": "JL4K0SQKq1dU"
      },
      "execution_count": null,
      "outputs": []
    },
    {
      "cell_type": "code",
      "source": [
        "model"
      ],
      "metadata": {
        "id": "ggkMgCL5VCNP"
      },
      "execution_count": null,
      "outputs": []
    }
  ]
}